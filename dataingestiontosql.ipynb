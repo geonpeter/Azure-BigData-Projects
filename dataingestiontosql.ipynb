{
 "cells": [
  {
   "cell_type": "code",
   "execution_count": 38,
   "metadata": {},
   "outputs": [
    {
     "data": {
      "text/plain": [
       "True"
      ]
     },
     "execution_count": 38,
     "metadata": {},
     "output_type": "execute_result"
    }
   ],
   "source": [
    "import mysql.connector\n",
    "from mysql.connector import Error\n",
    "import pandas as pd\n",
    "import os\n",
    "from dotenv import load_dotenv\n",
    "load_dotenv()"
   ]
  },
  {
   "cell_type": "code",
   "execution_count": 30,
   "metadata": {},
   "outputs": [],
   "source": [
    "file_path = '/home/geonpeter/Desktop/mydisk/Big Data/Projects/AzureBigData/dataset/olist_order_payments_dataset.csv'"
   ]
  },
  {
   "cell_type": "code",
   "execution_count": null,
   "metadata": {},
   "outputs": [
    {
     "data": {
      "text/plain": [
       "(103886, 5)"
      ]
     },
     "execution_count": 4,
     "metadata": {},
     "output_type": "execute_result"
    }
   ],
   "source": [
    "df = pd.read_csv(file_path, header= False)\n",
    "df.shape"
   ]
  },
  {
   "cell_type": "code",
   "execution_count": 31,
   "metadata": {},
   "outputs": [],
   "source": [
    "table_name = 'olist_order_payments'"
   ]
  },
  {
   "cell_type": "code",
   "execution_count": null,
   "metadata": {},
   "outputs": [
    {
     "name": "stdout",
     "output_type": "stream",
     "text": [
      "Error  1226 (42000): User 'dbecom_caughtbush' has exceeded the 'max_user_connections' resource (current value: 5)\n"
     ]
    }
   ],
   "source": [
    "try:\n",
    "    connection = mysql.connector.connect(\n",
    "        host = os.getenv('host'),\n",
    "        database = os.getenv('database'),\n",
    "        port = os.getenv('port'),\n",
    "        user = os.getenv('user'),\n",
    "        password = os.getenv('password')\n",
    "    )\n",
    "    batch_size = 500\n",
    "    create_query = f'CREATE TABLE IF NOT EXISTS {table_name}(order_id VARCHAR(50), payment_sequential INT, payment_type VARCHAR(50), payment_installments INT, payment_value FLOAT);'\n",
    "    insert_query = f'INSERT INTO {table_name} VALUES (%s, %s, %s, %s, %s);'\n",
    "    if connection.is_connected():\n",
    "        cursor = connection.cursor()\n",
    "        cursor.execute(create_query)\n",
    "        df = pd.read_csv(file_path)\n",
    "        cursor.execute('START TRANSACTION;')\n",
    "        for start in range(0,len(df),batch_size):\n",
    "            end = start + batch_size\n",
    "            batch = df.iloc[start:end]\n",
    "            batch_recs = [tuple(row) for row in batch.itertuples(index=False, name=None)]\n",
    "            cursor.executemany(insert_query, batch_recs)\n",
    "            print(f'batch {start+1} - {end} loaded')\n",
    "        connection.commit()\n",
    "        print('Data Loaded Successfully')\n",
    "            \n",
    "except Error as e:\n",
    "    print('Error ',e)\n",
    "\n",
    "finally:\n",
    "    if connection.is_connected():\n",
    "        cursor.close()\n",
    "        connection.close()\n",
    "        print('Connection Closed')"
   ]
  },
  {
   "cell_type": "code",
   "execution_count": null,
   "metadata": {},
   "outputs": [],
   "source": []
  },
  {
   "cell_type": "code",
   "execution_count": null,
   "metadata": {},
   "outputs": [],
   "source": []
  }
 ],
 "metadata": {
  "kernelspec": {
   "display_name": "azurebigdata-HkYzq5hz-py3.12",
   "language": "python",
   "name": "python3"
  },
  "language_info": {
   "codemirror_mode": {
    "name": "ipython",
    "version": 3
   },
   "file_extension": ".py",
   "mimetype": "text/x-python",
   "name": "python",
   "nbconvert_exporter": "python",
   "pygments_lexer": "ipython3",
   "version": "3.12.3"
  }
 },
 "nbformat": 4,
 "nbformat_minor": 2
}
